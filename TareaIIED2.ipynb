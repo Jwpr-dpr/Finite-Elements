{
  "nbformat": 4,
  "nbformat_minor": 0,
  "metadata": {
    "colab": {
      "provenance": []
    },
    "kernelspec": {
      "name": "python3",
      "display_name": "Python 3"
    },
    "language_info": {
      "name": "python"
    }
  },
  "cells": [
    {
      "cell_type": "markdown",
      "source": [
        "# Tarea 2\n",
        "\n",
        "Jhon Wilmer Pino Román  \n",
        "1017269052  \n",
        "Curso: Ecuaciones Diferenciales II  \n",
        "Profesor: Carlos Piedrahita  \n",
        "Computación Científica - Facultad de Ciencias Básicas  \n",
        "Universidad de Medellín - 2022-2"
      ],
      "metadata": {
        "id": "4Udtpu5vnp84"
      }
    },
    {
      "cell_type": "markdown",
      "source": [
        "## **Ejercicio 4.6**  \n",
        "Dada la ecuación diferencial:\n",
        "\n",
        "$$ - \\frac{d}{dx} \\left( -4 \\frac{du}{dx} \\right) + 8\\frac{du}{dx} + 5u = (\\sin{x} + 8\\cos{x}), \\quad -\\pi < x < \\pi $$\n",
        "\n",
        "con condición de frontera natural de Neumann:\n",
        "\n",
        "$$ -4 \\frac{du}{dx} = -20, \\quad x=-\\pi $$\n",
        "\n",
        "Y de Dirichlet:\n",
        "\n",
        "$$ u_b=2, \\quad x=\\pi $$"
      ],
      "metadata": {
        "id": "kLrVD7pwniyE"
      }
    },
    {
      "cell_type": "code",
      "source": [
        "import numpy as np\n",
        "import matplotlib.pyplot as plt"
      ],
      "metadata": {
        "id": "JaqRrmggnAIA"
      },
      "execution_count": null,
      "outputs": []
    },
    {
      "cell_type": "code",
      "execution_count": null,
      "metadata": {
        "id": "FktKU6cqm7Xm"
      },
      "outputs": [],
      "source": [
        "def Ab_local(xk1, xk, p, q, r, f):\n",
        "  Alocal = np.zeros((2, 2)); blocal = np.zeros((2))\n",
        "  h = xk1 - xk\n",
        "  xm = [ 0.5*(1-np.sqrt(3/5)), 0.5, 0.5*(1+np.sqrt(3/5)) ]\n",
        "  wm = [5/18, 4/9, 5/18]\n",
        "  phik = lambda X: 1-X\n",
        "  phik1 = lambda X: X\n",
        "  philist = [phik, phik1]\n",
        "  dphisX = [-1, 1]; sa=0; sb=0\n",
        "  for i in range(2):\n",
        "    for j in range(2):\n",
        "      for m in range(len(xm)):\n",
        "        sa += wm[m]*( (1/h**2)*p(xk + h*xm[m])*dphisX[i]*dphisX[j] + (1/h)*q(xk + h*xm[m])*philist[i](xm[m])*dphisX[j] + r(xk + h*xm[m])*philist[i](xm[m])*philist[j](xm[m]) )\n",
        "      Alocal[i,j] = h*sa\n",
        "      sa = 0\n",
        "    for m2 in range(len(xm)):\n",
        "      sb += wm[m2]*f(xk + h*xm[m2])*philist[i](xm[m2])\n",
        "    blocal[i] = h*sb\n",
        "    sb = 0\n",
        "\n",
        "  return Alocal, blocal\n",
        "\n",
        "\n",
        "\n",
        "def linear_fem(N, x, px, qx, rx, fx, ua='NaN', ub='NaN', eta_a=0, eta_b=0, alpha=0):\n",
        "  AG = np.zeros((N+1, N+1))\n",
        "  b = np.zeros((N+1))\n",
        "  i=0\n",
        "\n",
        "\n",
        "  while i < N:\n",
        "    Al, bl = Ab_local(x[i+1], x[i], px, qx, rx, fx)\n",
        "    AG[i:i+2, i:i+2] = AG[i:i+2, i:i+2] + Al\n",
        "    b[i:i+2] = b[i:i+2] + bl\n",
        "    i+=1\n",
        "\n",
        "\n",
        "  if ua != 'NaN':\n",
        "    AG[0,0] = 1; AG[0,1:] = 0\n",
        "    b[0] = ua\n",
        "  if ub != 'NaN':\n",
        "    AG[N,0:N] = 0; AG[N,N] = 1\n",
        "    b[N] = ub\n",
        "\n",
        "  b[0] = b[0] + eta_a\n",
        "  b[N] = b[N] + eta_b\n",
        "  AG[N,N] = AG[N,N] + alpha\n",
        "\n",
        "  return np.linalg.solve(AG, b)"
      ]
    },
    {
      "cell_type": "code",
      "source": [
        "# Elementos y malla\n",
        "N1 = 1000\n",
        "x1 = np.linspace(-np.pi, np.pi, N1+1)\n",
        "\n",
        "# Funciones\n",
        "px = lambda x: -4\n",
        "qx = lambda x: 8\n",
        "rx = lambda x: 5\n",
        "fx = lambda x: np.sin(x) + 8*np.cos(x)\n",
        "ub = 2\n",
        "eta_a = 0\n",
        "\n",
        "# solucion por elementos finitos\n",
        "U1 = linear_fem(N1, x1, px, qx, rx, fx, ub=ub, eta_a=eta_a)\n",
        "\n",
        "# solucion exacta\n",
        "x2 = np.linspace(-np.pi, np.pi, 1001)\n",
        "analitica = lambda x: 2*np.exp(-x)*( np.exp(np.pi)*np.sin(x/2) + ((1-2*np.exp(2*np.pi))/(np.exp(np.pi)))*np.cos(x/2) ) + np.sin(x)\n",
        "\n",
        "fig = plt.figure(figsize=(7,5))\n",
        "plt.plot(x1, U1, '-o', label='FEM')\n",
        "plt.plot(x2, analitica(x2),'--',linewidth=3,  label='exacta')\n",
        "plt.xlabel('x')\n",
        "plt.ylabel('u(x)')\n",
        "plt.legend()\n",
        "plt.grid()\n",
        "plt.show()"
      ],
      "metadata": {
        "colab": {
          "base_uri": "https://localhost:8080/",
          "height": 334
        },
        "id": "pfpMDLYSnBah",
        "outputId": "b30569d9-52d0-4c56-e76b-f08b8bdc80f5"
      },
      "execution_count": null,
      "outputs": [
        {
          "output_type": "display_data",
          "data": {
            "text/plain": [
              "<Figure size 504x360 with 1 Axes>"
            ],
            "image/png": "[encoded data removed]"
          },
          "metadata": {
            "needs_background": "light"
          }
        }
      ]
    },
    {
      "cell_type": "markdown",
      "source": [
        "## Cálculo del Error"
      ],
      "metadata": {
        "id": "40Tie5kqp-FX"
      }
    },
    {
      "cell_type": "code",
      "source": [
        "U0 = list()\n",
        "for i in x2:\n",
        "  U0.append(analitica(i))\n",
        "\n",
        "U2 = np.array(U0)\n"
      ],
      "metadata": {
        "id": "94aNfwA5n2Px"
      },
      "execution_count": null,
      "outputs": []
    },
    {
      "cell_type": "code",
      "source": [
        "U = U1-U2\n",
        "A = np.linalg.norm(U)\n",
        "B = np.linalg.norm(U2)\n",
        "error = (A/B)*100\n",
        "error"
      ],
      "metadata": {
        "colab": {
          "base_uri": "https://localhost:8080/"
        },
        "id": "uJBZsrBhpJnm",
        "outputId": "07925815-09eb-4388-e09b-a88d3e39d96a"
      },
      "execution_count": null,
      "outputs": [
        {
          "output_type": "execute_result",
          "data": {
            "text/plain": [
              "0.0013158691195367396"
            ]
          },
          "metadata": {},
          "execution_count": 34
        }
      ]
    }
  ]
}