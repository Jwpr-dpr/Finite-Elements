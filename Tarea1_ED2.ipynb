{
  "nbformat": 4,
  "nbformat_minor": 0,
  "metadata": {
    "colab": {
      "provenance": []
    },
    "kernelspec": {
      "name": "python3",
      "display_name": "Python 3"
    },
    "language_info": {
      "name": "python"
    }
  },
  "cells": [
    {
      "cell_type": "markdown",
      "source": [
        "# Tarea 1\n",
        "\n",
        "Jhon Wilmer Pino Román  \n",
        "1017269052  \n",
        "Curso: Ecuaciones Diferenciales II  \n",
        "Profesor: Carlos Piedrahita  \n",
        "Computación Científica - Facultad de Ciencias Básicas  \n",
        "Universidad de Medellín - 2022-2"
      ],
      "metadata": {
        "id": "KEeNtTs1nFFi"
      }
    },
    {
      "cell_type": "markdown",
      "source": [
        "#2.2\n",
        "We denote the error between the finite element solution and the true solution by\n",
        "$E(x) = U(x) − u(x)$. The $L^2$ norm of the error of the finite element solution, $||E||_{L^2}$ , is defined to be\n",
        "\n",
        "$$||E||_{L^2} = \\sqrt{\\int_{0}^{1}  \\! (U(x) - u(x))^2 \\, dx}$$\n",
        "\n",
        "Which may be written as the sum of the contribution from individual elements\n",
        "\n",
        "$$||E||_{L^2} = \\sqrt{\\sum_{k=1}^{N}  \\int_{x_k}^{x_{k+1}} \\! (U(x) - u(x))^2 \\, dx}$$\n",
        "\n",
        "(a) In sect 2.11, we saw that, for $x_k < x < x_{k+1}$, the finite element solution is given by\n",
        "\n",
        "$$U(x) = \\frac{x_{k+1} - x}{h} U_k + \\frac{x-x_k}{h} U_{k+1}$$\n",
        "\n",
        "Use this expression for U(x) to explain why, for the model problem used in this chapter, we may write\n",
        "\n",
        "$$||E||^{2}_{L^2} = \\sum_{k=1}^{N}  \\int_{x_k}^{x_{k+1}} \\! \\left( \\frac{x_{k+1} - x}{h} U_k + \\frac{x-x_k}{h} U_{k+1} - x(1-x)\\right)^2 \\, dx$$\n",
        "\n",
        "(b) Evaluate, by direct integration, the quantity\n",
        "\n",
        "$$\\int_{x_k}^{x_{k+1}} \\! \\left( \\frac{x_{k+1} - x}{h} U_k + \\frac{x-x_k}{h} U_{k+1} - x(1-x)\\right)^2 \\, dx$$\n",
        "\n",
        "\n",
        "(c) Using your answers to parts (a) and (b), modify the Matlab script given in\n",
        "Listing 2.1 so that it outputs the value of $||E||_{L^2}$ for a given number of elements,N.  \n",
        "\n",
        "(d) Define the element length by $h = 1/\n",
        "N$ where N is the number of elements. You\n",
        "may assume that, as $h → 0, ||E||_{L^2} $ is related to the element length $h$ by\n",
        "$$||E||_{L^2} = Ch^p$$\n",
        "\n",
        "for some constants $C$ and $p$. Taking the logarithm of both sides of this expression\n",
        "gives\n",
        "$$log (||E||_{L^2}) = log C + p log h$$,\n",
        "and so plotting $log (||E||_{L^2})$ against $log( h)$ will give a straight line of gradient $p$ as $h → 0$. By plotting $log (||E||_{L^2})$ against $log (h)$ for several values of $h$, estimate\n",
        "the constant $p$\n"
      ],
      "metadata": {
        "id": "jycKFpykoJNJ"
      }
    },
    {
      "cell_type": "markdown",
      "source": [
        "#2.3\n",
        "\n",
        "In sect 2.11, we saw that, for $x_k < x < x_{k+1}$, the finite element solution is given by\n",
        "\n",
        "$$U(x) = \\frac{x_{k+1} - x}{h} U_k + \\frac{x-x_k}{h} U_{k+1}$$\n",
        "\n",
        "(a) Write down the derivative of the finite element solution, $\\frac{dU}{\n",
        "dx}$ , on element k.\n",
        "\n",
        "(b)  Modify the Matlab script given in Listing 2.1 so that it plots the derivative of\n",
        "the solution. Note that this derivative is a function that may be discontinuous\n",
        "across element boundaries"
      ],
      "metadata": {
        "id": "nSNRd2tQvSaj"
      }
    },
    {
      "cell_type": "markdown",
      "source": [
        "#Solutions"
      ],
      "metadata": {
        "id": "_QzBknn8wCXn"
      }
    },
    {
      "cell_type": "markdown",
      "source": [
        "#2.2\n",
        "\n",
        "\n",
        "###(a)\n",
        " We have the $L_2$ norm given by\n",
        "\n",
        "$$||E||_{L^2} = \\sqrt{\\sum_{k=1}^{N}  \\int_{x_k}^{x_{k+1}} \\! (U(x) - u(x))^2 \\, dx} \\tag1$$\n",
        "\n",
        "And we have the solution given by FEM and the true solution of the equation as\n",
        "\n",
        "$$U(x) = \\frac{x_{k+1} - x}{h} U_k + \\frac{x-x_k}{h} U_{k+1} \\tag2$$\n",
        "\n",
        "$$u(x) = x(1-x) \\tag3$$$\n",
        "\n",
        "So now we replace (2) and (3) in (1)\n",
        "\n",
        "$$||E||_{L^2} =\\sqrt{ \\sum_{k=1}^{N}  \\int_{x_k}^{x_{k+1}} \\! \\left( \\frac{x_{k+1} - x}{h} U_k + \\frac{x-x_k}{h} U_{k+1} - x(1-x)\\right)^2 \\, dx}$$\n",
        "\n",
        "Now we get both sides to the second power\n",
        "\n",
        "$$(||E||_{L^2})^2 =\\left( \\sqrt{ \\sum_{k=1}^{N}  \\int_{x_k}^{x_{k+1}} \\! \\left( \\frac{x_{k+1} - x}{h} U_k + \\frac{x-x_k}{h} U_{k+1} - x(1-x)\\right)^2 \\, dx}\\right )^2$$\n",
        "\n",
        "With that, we can cancel the square root, and that leaves us with:\n",
        "\n",
        "$$||E||^{2}_{L^2} = \\sum_{k=1}^{N}  \\int_{x_k}^{x_{k+1}} \\! \\left( \\frac{x_{k+1} - x}{h} U_k + \\frac{x-x_k}{h} U_{k+1} - x(1-x)\\right)^2 \\, dx$$\n",
        "\n",
        "### (b)\n",
        "\n",
        "$$\\int_{x_k}^{x_{k+1}} \\! \\left( \\frac{x_{k+1} - x}{h} U_k + \\frac{x-x_k}{h} U_{k+1} - x(1-x)\\right)^2 \\, dx$$\n"
      ],
      "metadata": {
        "id": "pl8MXWvmY6dO"
      }
    },
    {
      "cell_type": "code",
      "source": [
        "from sympy import *\n",
        "\n",
        "init_printing()\n",
        "\n",
        "x, x_k1, x_k, U_k1, U_k, h = symbols('x x_k1 x_k U_k1 U_k h')\n",
        "\n",
        "\n",
        "expr = (((x_k1 - x)/(x_k1 - x_k))*U_k + ((x - x_k)/(x_k1 - x_k))*U_k1 - x*(1-x))**2\n",
        "print('The expresion to integrate:')\n",
        "print('\\n')\n",
        "expr"
      ],
      "metadata": {
        "colab": {
          "base_uri": "https://localhost:8080/",
          "height": 113
        },
        "id": "ckb3aMuFzEAw",
        "outputId": "3602aa28-2ffa-4825-c0c0-e7b39b6ed3c6"
      },
      "execution_count": null,
      "outputs": [
        {
          "output_type": "stream",
          "name": "stdout",
          "text": [
            "The expresion to integrate:\n",
            "\n",
            "\n"
          ]
        },
        {
          "output_type": "execute_result",
          "data": {
            "text/plain": [
              "                                          2\n",
              "⎛Uₖ⋅(-x + xₖ₁)   Uₖ₁⋅(x - xₖ)            ⎞ \n",
              "⎜───────────── + ──────────── - x⋅(1 - x)⎟ \n",
              "⎝  -xₖ + xₖ₁      -xₖ + xₖ₁              ⎠ "
            ],
            "image/png": "[encoded data removed]",
            "text/latex": "$\\displaystyle \\left(\\frac{U_{k} \\left(- x + x_{k1}\\right)}{- x_{k} + x_{k1}} + \\frac{U_{k1} \\left(x - x_{k}\\right)}{- x_{k} + x_{k1}} - x \\left(1 - x\\right)\\right)^{2}$"
          },
          "metadata": {},
          "execution_count": 1
        }
      ]
    },
    {
      "cell_type": "code",
      "source": [
        "ex1 = factor(simplify(integrate(expr, (x, x_k, x_k1))))"
      ],
      "metadata": {
        "id": "9lcbzrcZzN3P"
      },
      "execution_count": null,
      "outputs": []
    },
    {
      "cell_type": "code",
      "source": [
        "f2 = lambdify((x_k1, x_k, U_k1, U_k), ex1, 'numpy')"
      ],
      "metadata": {
        "id": "oZIKwZ-Z8LwU"
      },
      "execution_count": null,
      "outputs": []
    },
    {
      "cell_type": "code",
      "source": [
        "f2(1,2,3,4)"
      ],
      "metadata": {
        "id": "O9r2a2lS9Z4b",
        "outputId": "7981da56-902f-4e6e-d455-e5fad19636d5",
        "colab": {
          "base_uri": "https://localhost:8080/",
          "height": 37
        }
      },
      "execution_count": null,
      "outputs": [
        {
          "output_type": "execute_result",
          "data": {
            "text/plain": [
              "-19.53333333333333"
            ],
            "image/png": "[encoded data removed]",
            "text/latex": "$\\displaystyle -19.5333333333333$"
          },
          "metadata": {},
          "execution_count": 6
        }
      ]
    },
    {
      "cell_type": "markdown",
      "source": [
        "### (c)\n",
        "\n"
      ],
      "metadata": {
        "id": "iikC93X6ZWWg"
      }
    },
    {
      "cell_type": "code",
      "source": [
        "import numpy as np\n",
        "\n",
        "f2 = lambdify((x_k1, x_k, U_k1, U_k), ex1, 'numpy')\n",
        "\n",
        "def error(N1):\n",
        "  x1 = np.linspace(0.0, 1.0, N1+1)\n",
        "  U = Ab_global(N1)\n",
        "  xlist=x1; Ulist=U; f=f2\n",
        "\n",
        "  EL2=0; k=0\n",
        "  while k < N:\n",
        "    EL2 += f(xlist[k+1], xlist[k], Ulist[k+1], Ulist[k])\n",
        "    k+=1\n",
        "  return np.sqrt(EL2)\n",
        "\n"
      ],
      "metadata": {
        "id": "0_s6Lx_oZo6l"
      },
      "execution_count": null,
      "outputs": []
    },
    {
      "cell_type": "code",
      "source": [
        "error(100)"
      ],
      "metadata": {
        "colab": {
          "base_uri": "https://localhost:8080/",
          "height": 37
        },
        "id": "9qQy-pYuafQ4",
        "outputId": "45ff32b1-3c11-4579-f305-c323ee91b3f2"
      },
      "execution_count": null,
      "outputs": [
        {
          "output_type": "execute_result",
          "data": {
            "text/plain": [
              "1.825741874062942e-05"
            ],
            "image/png": "[encoded data removed]",
            "text/latex": "$\\displaystyle 1.82574187406294 \\cdot 10^{-5}$"
          },
          "metadata": {},
          "execution_count": 9
        }
      ]
    },
    {
      "cell_type": "code",
      "source": [
        "error(200)"
      ],
      "metadata": {
        "colab": {
          "base_uri": "https://localhost:8080/",
          "height": 37
        },
        "id": "PLQ_MHXnarAd",
        "outputId": "d1725c5a-4e2c-4a0c-e8d7-bc0b4c06b5cc"
      },
      "execution_count": null,
      "outputs": [
        {
          "output_type": "execute_result",
          "data": {
            "text/plain": [
              "3.2274862114834496e-06"
            ],
            "image/png": "[encoded data removed]",
            "text/latex": "$\\displaystyle 3.22748621148345 \\cdot 10^{-6}$"
          },
          "metadata": {},
          "execution_count": 10
        }
      ]
    },
    {
      "cell_type": "code",
      "source": [
        "error(150)"
      ],
      "metadata": {
        "colab": {
          "base_uri": "https://localhost:8080/",
          "height": 37
        },
        "id": "sg-S1V0Gauvg",
        "outputId": "14664894-959e-40cd-c2e1-495d33927b4e"
      },
      "execution_count": null,
      "outputs": [
        {
          "output_type": "execute_result",
          "data": {
            "text/plain": [
              "6.625386686883653e-06"
            ],
            "image/png": "[encoded data removed]",
            "text/latex": "$\\displaystyle 6.62538668688365 \\cdot 10^{-6}$"
          },
          "metadata": {},
          "execution_count": 11
        }
      ]
    },
    {
      "cell_type": "markdown",
      "source": [
        "### (d)\n",
        "\n"
      ],
      "metadata": {
        "id": "tQj8R95qbByA"
      }
    },
    {
      "cell_type": "code",
      "source": [
        "def Ab_global(N):\n",
        "  AG = np.zeros((N+1, N+1))\n",
        "  b = np.zeros((N+1))\n",
        "  i=0\n",
        "\n",
        "  while i < N:\n",
        "    Al, bl = Ab_local(h = 1/N)\n",
        "    AG[i:i+2, i:i+2] = AG[i:i+2, i:i+2] + Al\n",
        "    b[i:i+2] = b[i:i+2] + bl\n",
        "    i+=1\n",
        "\n",
        "  AG[0,0] = 1; AG[0,1:] = 0\n",
        "  AG[N,0:] = 0; AG[N,N] = 1\n",
        "  b[0] = 0; b[N] = 0\n",
        "\n",
        "  return np.linalg.solve(AG, b)"
      ],
      "metadata": {
        "id": "v7VXOsX8noN_"
      },
      "execution_count": null,
      "outputs": []
    },
    {
      "cell_type": "code",
      "source": [
        "N2 = list(range(100, 155))  # distintos valores de N, por lo tanto, distintos valores de h\n",
        "logE = []; logh = []\n",
        "\n",
        "for N in N2:\n",
        "  x1 = np.linspace(0.0, 1.0, N+1)\n",
        "  U = Ab_global(N)\n",
        "  logE.append( np.log(error(N)) )\n",
        "  logh.append( np.log(1/N) )\n",
        "\n",
        "plt.plot(logh, logE); plt.xlabel('log h'); plt.ylabel('log ||E||_L^2'); plt.title('escala log')\n",
        "plt.grid(); plt.show()"
      ],
      "metadata": {
        "id": "tyB6RdyGUubK",
        "colab": {
          "base_uri": "https://localhost:8080/",
          "height": 295
        },
        "outputId": "efa83596-13d2-4a34-c884-20287c682b67"
      },
      "execution_count": null,
      "outputs": [
        {
          "output_type": "display_data",
          "data": {
            "text/plain": [
              "<Figure size 432x288 with 1 Axes>"
            ],
            "image/png": "[encoded data removed]"
          },
          "metadata": {
            "needs_background": "light"
          }
        }
      ]
    },
    {
      "cell_type": "code",
      "source": [
        "p = (logE[1] - logE[0])/(logh[1] - logh[0])\n",
        "print(p)"
      ],
      "metadata": {
        "id": "M4llxjS3Vkoy",
        "colab": {
          "base_uri": "https://localhost:8080/"
        },
        "outputId": "2d012a3a-cbc0-4ec3-b684-910514e68548"
      },
      "execution_count": null,
      "outputs": [
        {
          "output_type": "stream",
          "name": "stdout",
          "text": [
            "2.0000000811935896\n"
          ]
        }
      ]
    },
    {
      "cell_type": "markdown",
      "source": [
        "# 2.3\n",
        "\n",
        "(a) derivative of the finite element solution, $\\frac{dU}{\n",
        "dx}$ , on element k."
      ],
      "metadata": {
        "id": "AoyC0J6Du4jD"
      }
    },
    {
      "cell_type": "code",
      "source": [
        "import sympy as sp\n",
        "\n",
        "Uk, Uk1, xk,xk1, h, x = sp.symbols('Uk Uk1 xk xk1 h x')\n",
        "\n",
        "Ux = ((xk1 - x)*Uk/h) + ((x - xk)*Uk1/ h)\n",
        "\n",
        "print(\"dU/dx: \\n\")\n",
        "Ux.diff(x,1)"
      ],
      "metadata": {
        "colab": {
          "base_uri": "https://localhost:8080/",
          "height": 87
        },
        "id": "21quqB16x3WN",
        "outputId": "53792581-2a05-4aa6-ddb6-51fcbe34fc23"
      },
      "execution_count": null,
      "outputs": [
        {
          "output_type": "stream",
          "name": "stdout",
          "text": [
            "dU/dx: \n",
            "\n"
          ]
        },
        {
          "output_type": "execute_result",
          "data": {
            "text/plain": [
              "  Uk   Uk₁\n",
              "- ── + ───\n",
              "  h     h "
            ],
            "image/png": "[encoded data removed]",
            "text/latex": "$\\displaystyle - \\frac{Uk}{h} + \\frac{Uk_{1}}{h}$"
          },
          "metadata": {},
          "execution_count": 17
        }
      ]
    },
    {
      "cell_type": "markdown",
      "source": [
        "(b)"
      ],
      "metadata": {
        "id": "dhFZV7aCx7j6"
      }
    },
    {
      "cell_type": "code",
      "source": [
        "import matplotlib.pyplot as plt\n",
        "import numpy as np\n",
        "import pandas as pd\n",
        "from scipy.interpolate import lagrange"
      ],
      "metadata": {
        "id": "tElOaB2Hw87M"
      },
      "execution_count": null,
      "outputs": []
    },
    {
      "cell_type": "code",
      "source": [
        "def Ab_local_test(h=0):\n",
        "  return np.random.randint(0, 9, (2, 2)), np.random.randint(0,9, (2))\n",
        "\n",
        "def Ab_local(h=0.2):\n",
        "  return (1/h)*np.array([[1,-1], [-1,1]]), h*np.array((1, 1))"
      ],
      "metadata": {
        "id": "2kgA46LbwzFt"
      },
      "execution_count": null,
      "outputs": []
    },
    {
      "cell_type": "code",
      "source": [
        "#Traduccion del codigo de matlab de whiteley\n",
        "def Ab_global(N):\n",
        "  AG = np.zeros((N+1, N+1))\n",
        "  b = np.zeros((N+1))\n",
        "  i=0\n",
        "\n",
        "  while i < N:\n",
        "    Al, bl = Ab_local(h = 1/N)\n",
        "    AG[i:i+2, i:i+2] = AG[i:i+2, i:i+2] + Al\n",
        "    b[i:i+2] = b[i:i+2] + bl\n",
        "    i+=1\n",
        "\n",
        "  AG[0,0] = 1; AG[0,1:] = 0\n",
        "  AG[N,0:] = 0; AG[N,N] = 1\n",
        "  b[0] = 0; b[N] = 0\n",
        "\n",
        "  return np.linalg.solve(AG, b)"
      ],
      "metadata": {
        "id": "rtzQraeTvhOT"
      },
      "execution_count": null,
      "outputs": []
    },
    {
      "cell_type": "code",
      "source": [
        "N = 100\n",
        "x2 = np.linspace(0.0, 1.0, N+1)\n",
        "U = Ab_global(N); dU=[]\n",
        "\n",
        "for k in range(0, N):\n",
        "  dU.append((U[k+1] - U[k])/(1/N))\n",
        "\n",
        "plt.plot(x2[1:], dU); plt.xlabel('x'); plt.ylabel('dU/dx'); plt.title('derivada de U(x)')\n",
        "plt.grid(); plt.show()"
      ],
      "metadata": {
        "colab": {
          "base_uri": "https://localhost:8080/",
          "height": 295
        },
        "id": "P4zTW4Uctt9b",
        "outputId": "74ceb333-0bc7-484c-aa0b-29114e24b985"
      },
      "execution_count": null,
      "outputs": [
        {
          "output_type": "display_data",
          "data": {
            "text/plain": [
              "<Figure size 432x288 with 1 Axes>"
            ],
            "image/png": "[encoded data removed]"
          },
          "metadata": {
            "needs_background": "light"
          }
        }
      ]
    },
    {
      "cell_type": "code",
      "source": [],
      "metadata": {
        "id": "DNizcjF1mU31"
      },
      "execution_count": null,
      "outputs": []
    }
  ]
}